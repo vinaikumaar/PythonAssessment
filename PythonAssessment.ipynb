{
  "nbformat": 4,
  "nbformat_minor": 0,
  "metadata": {
    "colab": {
      "provenance": []
    },
    "kernelspec": {
      "name": "python3",
      "display_name": "Python 3"
    },
    "language_info": {
      "name": "python"
    }
  },
  "cells": [
    {
      "cell_type": "code",
      "source": [
        "import pyspark\n",
        "from pyspark.sql import SparkSession\n",
        "spark = SparkSession.builder.getOrCreate()"
      ],
      "metadata": {
        "id": "XguhmiNAglXs"
      },
      "execution_count": 186,
      "outputs": []
    },
    {
      "cell_type": "markdown",
      "source": [
        "Below is the function to change all the column headers to snake_case.\n",
        "\n",
        "Note: I have only considered space,/ and - after looking one or two files.\n",
        "\n",
        "\n"
      ],
      "metadata": {
        "id": "PzR_PlMuZMEz"
      }
    },
    {
      "cell_type": "code",
      "source": [
        "from pyspark.sql.functions import col\n",
        "def rename_cols(rename_df):\n",
        "    for column in rename_df.columns:\n",
        "        new_column = column.replace(' ','_').replace('/','_').replace('-','_')\n",
        "        rename_df = rename_df.withColumnRenamed(column, new_column)\n",
        "    return rename_df"
      ],
      "metadata": {
        "id": "8t3HHDcyT7hN"
      },
      "execution_count": 187,
      "outputs": []
    },
    {
      "cell_type": "markdown",
      "source": [
        "Below is the main code to read the csv files from datastore that are related to the theme \"Hospitals\" and load them to storage path.\n",
        "\n",
        "Note: As I dont have any work environment of Azure to load the files, I have saved all the files from data store to my local path.\n"
      ],
      "metadata": {
        "id": "8JUr3d6dZdzw"
      }
    },
    {
      "cell_type": "code",
      "source": [
        "import gettext\n",
        "import json\n",
        "import requests\n",
        "import pandas as pd\n",
        "import os\n",
        "\n",
        "api_url = f'https://data.cms.gov/provider-data/api/1/metastore/schemas/dataset/items'\n",
        "\n",
        "getjsondata = requests.get(api_url)\n",
        "\n",
        "response_json = json.loads(getjsondata.text)\n",
        "\n",
        "#Looping through all the json records\n",
        "for todoFile in response_json:\n",
        "\n",
        "  #Looking only for the theme Hospitals\n",
        "  if str(todoFile[\"theme\"]) == \"['Hospitals']\":\n",
        "\n",
        "    #Extracting only the filename from the URL\n",
        "    fileName = os.path.basename(todoFile[\"distribution\"][0][\"downloadURL\"])\n",
        "\n",
        "\n",
        "    #Extracting ModifiedDate column to append to filename and also to identity if the file has already loaded or not\n",
        "    modifiedDate = todoFile[\"modified\"]\n",
        "\n",
        "    #updating the modifiedDate format to YYYYMMDD\n",
        "    modifiedDateFormatted = modifiedDate.replace(\"-\", \"\")\n",
        "\n",
        "    #Generating the fileName for saving YYYYMMDD_FileName.csv\n",
        "    fileNameFinal =  modifiedDateFormatted + \"_\" + fileName\n",
        "\n",
        "    #Reading the csv file using pandas dataframe\n",
        "    initialDf = pd.read_csv(todoFile[\"distribution\"][0][\"downloadURL\"])\n",
        "\n",
        "    #Checking if the file already exists or loaded. We will only load the file if it is not there in our folder\n",
        "    if not os.path.exists(\"/Users/vinay/CMSData/\" + fileNameFinal):\n",
        "      #Note : have converted panda dataframe to spark dataframe for renaming columns. I did this quick turnaround as I have already spent most of the time on this.\n",
        "      spark_df = spark.createDataFrame(initialDf)\n",
        "\n",
        "      #Calling the function to change all the column headers to snake_case.\n",
        "      spark_df1 = rename_cols(spark_df)\n",
        "\n",
        "      #Finally writihng the file to the storage location.\n",
        "      spark_df1.write.option(\"header\",True).mode(\"overwrite\").csv(\"/Users/vinay/CMSData/\" + fileNameFinal)\n",
        "    else:\n",
        "      print(\"File Already exists\")\n",
        "\n"
      ],
      "metadata": {
        "colab": {
          "base_uri": "https://localhost:8080/"
        },
        "collapsed": true,
        "id": "batUWPevgUQP",
        "outputId": "b30a658a-4769-472d-ddb5-5c12386323ee"
      },
      "execution_count": 188,
      "outputs": [
        {
          "output_type": "stream",
          "name": "stderr",
          "text": [
            "<ipython-input-188-123db81bc451>:33: DtypeWarning: Columns (12,14,17,19) have mixed types. Specify dtype option on import or set low_memory=False.\n",
            "  initialDf = pd.read_csv(todoFile[\"distribution\"][0][\"downloadURL\"])\n",
            "<ipython-input-188-123db81bc451>:33: DtypeWarning: Columns (17) have mixed types. Specify dtype option on import or set low_memory=False.\n",
            "  initialDf = pd.read_csv(todoFile[\"distribution\"][0][\"downloadURL\"])\n"
          ]
        }
      ]
    },
    {
      "cell_type": "code",
      "source": [
        "#Took one randome file to read/verify the contents after loading\n",
        "spark.read.csv(\"/Users/vinay/CMSData/20241010_Timely_and_Effective_Care-State.csv\",header = True).show()"
      ],
      "metadata": {
        "colab": {
          "base_uri": "https://localhost:8080/"
        },
        "id": "UnjnMrp9TVQL",
        "outputId": "e5065fc9-3f7f-4bb9-e0f3-62d852600837"
      },
      "execution_count": 189,
      "outputs": [
        {
          "output_type": "stream",
          "name": "stdout",
          "text": [
            "+-----+--------------------+--------------------+--------------------+-------------+--------+----------+----------+\n",
            "|State|           Condition|          Measure_ID|        Measure_Name|        Score|Footnote|Start_Date|  End_Date|\n",
            "+-----+--------------------+--------------------+--------------------+-------------+--------+----------+----------+\n",
            "|   AK|Healthcare Person...|        HCP_COVID_19|Percentage of hea...|          9.2|     NaN|10/01/2023|12/31/2023|\n",
            "|   AK|Healthcare Person...|               IMM_3|Healthcare worker...|           80|     NaN|10/01/2023|03/31/2024|\n",
            "|   AK|Emergency Department|              OP_18b|Average (median) ...|          140|  25, 26|01/01/2023|12/31/2023|\n",
            "|   AK|Emergency Department|     OP_18b_HIGH_MIN|Average time pati...|          150|  25, 26|01/01/2023|12/31/2023|\n",
            "|   AK|Emergency Department|      OP_18b_LOW_MIN|Average time pati...|          134|  25, 26|01/01/2023|12/31/2023|\n",
            "|   AK|Emergency Department|   OP_18b_MEDIUM_MIN|Average time pati...|          147|  25, 26|01/01/2023|12/31/2023|\n",
            "|   AK|Emergency Department|OP_18b_VERY_HIGH_MIN|Average time pati...|          185|  25, 26|01/01/2023|12/31/2023|\n",
            "|   AK|Emergency Department|              OP_18c|Average (median) ...|          196|      25|01/01/2023|12/31/2023|\n",
            "|   AK|Emergency Department|     OP_18c_HIGH_MIN|Average time pati...|          292|      25|01/01/2023|12/31/2023|\n",
            "|   AK|Emergency Department|      OP_18c_LOW_MIN|Average time pati...|          178|      25|01/01/2023|12/31/2023|\n",
            "|   AK|Emergency Department|   OP_18c_MEDIUM_MIN|Average time pati...|          217|      25|01/01/2023|12/31/2023|\n",
            "|   AK|Emergency Department|OP_18c_VERY_HIGH_MIN|Average time pati...|          181|      25|01/01/2023|12/31/2023|\n",
            "|   AK|Emergency Department|               OP_22|Percentage of pat...|            2|  25, 26|01/01/2022|12/31/2022|\n",
            "|   AK|Emergency Department|               OP_23|Percentage of pat...|           64|      25|01/01/2023|12/31/2023|\n",
            "|   AK|    Colonoscopy care|               OP_29|Percentage of pat...|           82|  25, 26|01/01/2022|12/31/2022|\n",
            "|   AK|Cataract surgery ...|               OP_31|Percentage of pat...|Not Available|       5|01/01/2022|12/31/2022|\n",
            "|   AK|Electronic Clinic...| SAFE_USE_OF_OPIOIDS|Safe Use of Opioi...|           16|     NaN|01/01/2023|12/31/2023|\n",
            "|   AK|         Sepsis Care|               SEP_1|Percentage of pat...|           58|  25, 26|01/01/2023|12/31/2023|\n",
            "|   AK|         Sepsis Care|          SEP_SH_3HR|Septic Shock 3-Ho...|           63|  25, 26|01/01/2023|12/31/2023|\n",
            "|   AK|         Sepsis Care|          SEP_SH_6HR|Septic Shock 6-Ho...|           80|  25, 26|01/01/2023|12/31/2023|\n",
            "+-----+--------------------+--------------------+--------------------+-------------+--------+----------+----------+\n",
            "only showing top 20 rows\n",
            "\n"
          ]
        }
      ]
    },
    {
      "cell_type": "code",
      "source": [
        "#Took one more randome file to read/verify the contents after loading\n",
        "spark.read.csv(\"/Users/vinay/CMSData/20241018_HCAHPS-Hospital.csv\",header = True).show()"
      ],
      "metadata": {
        "colab": {
          "base_uri": "https://localhost:8080/"
        },
        "id": "YlilKWzHInQq",
        "outputId": "49d20508-dc60-4c99-de96-cda0ac295917"
      },
      "execution_count": 190,
      "outputs": [
        {
          "output_type": "stream",
          "name": "stdout",
          "text": [
            "+-----------+--------------------+-------------+---------+-----+--------+-------------+----------------+--------------------+--------------------+-------------------------+--------------------------+-----------------------------------+---------------------+------------------------------+------------------------+---------------------------+------------------------------------+----------------------------+-------------------------------------+----------+----------+\n",
            "|Facility_ID|       Facility_Name|      Address|City_Town|State|ZIP_Code|County_Parish|Telephone_Number|   HCAHPS_Measure_ID|     HCAHPS_Question|HCAHPS_Answer_Description|Patient_Survey_Star_Rating|Patient_Survey_Star_Rating_Footnote|HCAHPS_Answer_Percent|HCAHPS_Answer_Percent_Footnote|HCAHPS_Linear_Mean_Value|Number_of_Completed_Surveys|Number_of_Completed_Surveys_Footnote|Survey_Response_Rate_Percent|Survey_Response_Rate_Percent_Footnote|Start_Date|  End_Date|\n",
            "+-----------+--------------------+-------------+---------+-----+--------+-------------+----------------+--------------------+--------------------+-------------------------+--------------------------+-----------------------------------+---------------------+------------------------------+------------------------+---------------------------+------------------------------------+----------------------------+-------------------------------------+----------+----------+\n",
            "|     260001|MERCY HOSPITAL JO...|100 MERCY WAY|   JOPLIN|   MO|   64804|       JASPER|  (417) 781-2727|H_COMP_3_LINEAR_S...|Staff responsiven...|     Staff responsiven...|            Not Applicable|                                NaN|       Not Applicable|                           NaN|                      81|                        414|                                 NaN|                          21|                                  NaN|01/01/2023|12/31/2023|\n",
            "|     260001|MERCY HOSPITAL JO...|100 MERCY WAY|   JOPLIN|   MO|   64804|       JASPER|  (417) 781-2727|H_COMP_3_STAR_RATING|Staff responsiven...|     Staff responsiven...|                         3|                                NaN|       Not Applicable|                           NaN|          Not Applicable|                        414|                                 NaN|                          21|                                  NaN|01/01/2023|12/31/2023|\n",
            "|     260001|MERCY HOSPITAL JO...|100 MERCY WAY|   JOPLIN|   MO|   64804|       JASPER|  (417) 781-2727|   H_CALL_BUTTON_A_P|Patients who repo...|     Patients \"always\"...|            Not Applicable|                                NaN|                   52|                           NaN|          Not Applicable|                        414|                                 NaN|                          21|                                  NaN|01/01/2023|12/31/2023|\n",
            "|     260001|MERCY HOSPITAL JO...|100 MERCY WAY|   JOPLIN|   MO|   64804|       JASPER|  (417) 781-2727|  H_CALL_BUTTON_SN_P|Patients who repo...|     Patients \"sometim...|            Not Applicable|                                NaN|                   13|                           NaN|          Not Applicable|                        414|                                 NaN|                          21|                                  NaN|01/01/2023|12/31/2023|\n",
            "|     260001|MERCY HOSPITAL JO...|100 MERCY WAY|   JOPLIN|   MO|   64804|       JASPER|  (417) 781-2727|   H_CALL_BUTTON_U_P|Patients who repo...|     Patients \"usually...|            Not Applicable|                                NaN|                   35|                           NaN|          Not Applicable|                        414|                                 NaN|                          21|                                  NaN|01/01/2023|12/31/2023|\n",
            "|     260001|MERCY HOSPITAL JO...|100 MERCY WAY|   JOPLIN|   MO|   64804|       JASPER|  (417) 781-2727|     H_BATH_HELP_A_P|Patients who repo...|     Patients \"always\"...|            Not Applicable|                                NaN|                   63|                           NaN|          Not Applicable|                        414|                                 NaN|                          21|                                  NaN|01/01/2023|12/31/2023|\n",
            "|     260001|MERCY HOSPITAL JO...|100 MERCY WAY|   JOPLIN|   MO|   64804|       JASPER|  (417) 781-2727|    H_BATH_HELP_SN_P|Patients who repo...|     Patients \"sometim...|            Not Applicable|                                NaN|                    9|                           NaN|          Not Applicable|                        414|                                 NaN|                          21|                                  NaN|01/01/2023|12/31/2023|\n",
            "|     260001|MERCY HOSPITAL JO...|100 MERCY WAY|   JOPLIN|   MO|   64804|       JASPER|  (417) 781-2727|     H_BATH_HELP_U_P|Patients who repo...|     Patients \"usually...|            Not Applicable|                                NaN|                   28|                           NaN|          Not Applicable|                        414|                                 NaN|                          21|                                  NaN|01/01/2023|12/31/2023|\n",
            "|     260001|MERCY HOSPITAL JO...|100 MERCY WAY|   JOPLIN|   MO|   64804|       JASPER|  (417) 781-2727|        H_COMP_5_A_P|Patients who repo...|     Staff \"always\" ex...|            Not Applicable|                                NaN|                   56|                           NaN|          Not Applicable|                        414|                                 NaN|                          21|                                  NaN|01/01/2023|12/31/2023|\n",
            "|     260001|MERCY HOSPITAL JO...|100 MERCY WAY|   JOPLIN|   MO|   64804|       JASPER|  (417) 781-2727|       H_COMP_5_SN_P|Patients who repo...|     Staff \"sometimes\"...|            Not Applicable|                                NaN|                   26|                           NaN|          Not Applicable|                        414|                                 NaN|                          21|                                  NaN|01/01/2023|12/31/2023|\n",
            "|     260001|MERCY HOSPITAL JO...|100 MERCY WAY|   JOPLIN|   MO|   64804|       JASPER|  (417) 781-2727|        H_COMP_5_U_P|Patients who repo...|     Staff \"usually\" e...|            Not Applicable|                                NaN|                   18|                           NaN|          Not Applicable|                        414|                                 NaN|                          21|                                  NaN|01/01/2023|12/31/2023|\n",
            "|     260001|MERCY HOSPITAL JO...|100 MERCY WAY|   JOPLIN|   MO|   64804|       JASPER|  (417) 781-2727|H_COMP_5_LINEAR_S...|Communication abo...|     Communication abo...|            Not Applicable|                                NaN|       Not Applicable|                           NaN|                      71|                        414|                                 NaN|                          21|                                  NaN|01/01/2023|12/31/2023|\n",
            "|     260001|MERCY HOSPITAL JO...|100 MERCY WAY|   JOPLIN|   MO|   64804|       JASPER|  (417) 781-2727|H_COMP_5_STAR_RATING|Communication abo...|     Communication abo...|                         2|                                NaN|       Not Applicable|                           NaN|          Not Applicable|                        414|                                 NaN|                          21|                                  NaN|01/01/2023|12/31/2023|\n",
            "|     260001|MERCY HOSPITAL JO...|100 MERCY WAY|   JOPLIN|   MO|   64804|       JASPER|  (417) 781-2727|       H_MED_FOR_A_P|Patients who repo...|     Staff \"always\" ex...|            Not Applicable|                                NaN|                   67|                           NaN|          Not Applicable|                        414|                                 NaN|                          21|                                  NaN|01/01/2023|12/31/2023|\n",
            "|     260001|MERCY HOSPITAL JO...|100 MERCY WAY|   JOPLIN|   MO|   64804|       JASPER|  (417) 781-2727|      H_MED_FOR_SN_P|Patients who repo...|     Staff \"sometimes\"...|            Not Applicable|                                NaN|                   14|                           NaN|          Not Applicable|                        414|                                 NaN|                          21|                                  NaN|01/01/2023|12/31/2023|\n",
            "|     260001|MERCY HOSPITAL JO...|100 MERCY WAY|   JOPLIN|   MO|   64804|       JASPER|  (417) 781-2727|       H_MED_FOR_U_P|Patients who repo...|     Staff \"usually\" e...|            Not Applicable|                                NaN|                   19|                           NaN|          Not Applicable|                        414|                                 NaN|                          21|                                  NaN|01/01/2023|12/31/2023|\n",
            "|     260001|MERCY HOSPITAL JO...|100 MERCY WAY|   JOPLIN|   MO|   64804|       JASPER|  (417) 781-2727|  H_SIDE_EFFECTS_A_P|Patients who repo...|     Staff \"always\" ex...|            Not Applicable|                                NaN|                   44|                           NaN|          Not Applicable|                        414|                                 NaN|                          21|                                  NaN|01/01/2023|12/31/2023|\n",
            "|     260001|MERCY HOSPITAL JO...|100 MERCY WAY|   JOPLIN|   MO|   64804|       JASPER|  (417) 781-2727| H_SIDE_EFFECTS_SN_P|Patients who repo...|     Staff \"sometimes\"...|            Not Applicable|                                NaN|                   39|                           NaN|          Not Applicable|                        414|                                 NaN|                          21|                                  NaN|01/01/2023|12/31/2023|\n",
            "|     260001|MERCY HOSPITAL JO...|100 MERCY WAY|   JOPLIN|   MO|   64804|       JASPER|  (417) 781-2727|  H_SIDE_EFFECTS_U_P|Patients who repo...|     Staff \"usually\" e...|            Not Applicable|                                NaN|                   17|                           NaN|          Not Applicable|                        414|                                 NaN|                          21|                                  NaN|01/01/2023|12/31/2023|\n",
            "|     260001|MERCY HOSPITAL JO...|100 MERCY WAY|   JOPLIN|   MO|   64804|       JASPER|  (417) 781-2727|        H_COMP_6_N_P|Patients who repo...|     No, staff \"did no...|            Not Applicable|                                NaN|                   15|                           NaN|          Not Applicable|                        414|                                 NaN|                          21|                                  NaN|01/01/2023|12/31/2023|\n",
            "+-----------+--------------------+-------------+---------+-----+--------+-------------+----------------+--------------------+--------------------+-------------------------+--------------------------+-----------------------------------+---------------------+------------------------------+------------------------+---------------------------+------------------------------------+----------------------------+-------------------------------------+----------+----------+\n",
            "only showing top 20 rows\n",
            "\n"
          ]
        }
      ]
    },
    {
      "cell_type": "code",
      "source": [
        "#Took one more randome file to read/verify the contents after loading\n",
        "spark.read.csv(\"/Users/vinay/PythAssessment/20241010_Complications_and_Deaths-Hospital.csv\",header = True).show()"
      ],
      "metadata": {
        "colab": {
          "base_uri": "https://localhost:8080/"
        },
        "id": "KnhRhiFUkC0l",
        "outputId": "8746f9ce-5460-42da-c0a1-45b6716f13e5"
      },
      "execution_count": 191,
      "outputs": [
        {
          "output_type": "stream",
          "name": "stdout",
          "text": [
            "+-----------+--------------------+--------------------+-----------+-----+--------+-------------+----------------+-------------+--------------------+--------------------+--------------+-------------+--------------+---------------+--------+----------+----------+\n",
            "|Facility_ID|       Facility_Name|             Address|  City_Town|State|ZIP_Code|County_Parish|Telephone_Number|   Measure_ID|        Measure_Name|Compared_to_National|   Denominator|        Score|Lower_Estimate|Higher_Estimate|Footnote|Start_Date|  End_Date|\n",
            "+-----------+--------------------+--------------------+-----------+-----+--------+-------------+----------------+-------------+--------------------+--------------------+--------------+-------------+--------------+---------------+--------+----------+----------+\n",
            "|     251319|HOLMES COUNTY HOS...|239 BOWLING GREEN...|  LEXINGTON|   MS|   39095|       HOLMES|  (662) 834-1321|       PSI_03| Pressure ulcer rate|       Not Available| Not Available|Not Available| Not Available|  Not Available|      13|07/01/2021|06/30/2023|\n",
            "|     251319|HOLMES COUNTY HOS...|239 BOWLING GREEN...|  LEXINGTON|   MS|   39095|       HOLMES|  (662) 834-1321|       PSI_04|Death rate among ...|       Not Available| Not Available|Not Available| Not Available|  Not Available|      13|07/01/2021|06/30/2023|\n",
            "|     251319|HOLMES COUNTY HOS...|239 BOWLING GREEN...|  LEXINGTON|   MS|   39095|       HOLMES|  (662) 834-1321|       PSI_06|Iatrogenic pneumo...|       Not Available| Not Available|Not Available| Not Available|  Not Available|      13|07/01/2021|06/30/2023|\n",
            "|     251319|HOLMES COUNTY HOS...|239 BOWLING GREEN...|  LEXINGTON|   MS|   39095|       HOLMES|  (662) 834-1321|       PSI_08|In-hospital fall-...|       Not Available| Not Available|Not Available| Not Available|  Not Available|      13|07/01/2021|06/30/2023|\n",
            "|     251319|HOLMES COUNTY HOS...|239 BOWLING GREEN...|  LEXINGTON|   MS|   39095|       HOLMES|  (662) 834-1321|       PSI_09|Postoperative hem...|       Not Available| Not Available|Not Available| Not Available|  Not Available|      13|07/01/2021|06/30/2023|\n",
            "|     251319|HOLMES COUNTY HOS...|239 BOWLING GREEN...|  LEXINGTON|   MS|   39095|       HOLMES|  (662) 834-1321|       PSI_10|Postoperative acu...|       Not Available| Not Available|Not Available| Not Available|  Not Available|      13|07/01/2021|06/30/2023|\n",
            "|     251319|HOLMES COUNTY HOS...|239 BOWLING GREEN...|  LEXINGTON|   MS|   39095|       HOLMES|  (662) 834-1321|       PSI_11|Postoperative res...|       Not Available| Not Available|Not Available| Not Available|  Not Available|      13|07/01/2021|06/30/2023|\n",
            "|     251319|HOLMES COUNTY HOS...|239 BOWLING GREEN...|  LEXINGTON|   MS|   39095|       HOLMES|  (662) 834-1321|       PSI_12|Perioperative pul...|       Not Available| Not Available|Not Available| Not Available|  Not Available|      13|07/01/2021|06/30/2023|\n",
            "|     251319|HOLMES COUNTY HOS...|239 BOWLING GREEN...|  LEXINGTON|   MS|   39095|       HOLMES|  (662) 834-1321|       PSI_13|Postoperative sep...|       Not Available| Not Available|Not Available| Not Available|  Not Available|      13|07/01/2021|06/30/2023|\n",
            "|     251319|HOLMES COUNTY HOS...|239 BOWLING GREEN...|  LEXINGTON|   MS|   39095|       HOLMES|  (662) 834-1321|       PSI_14|Postoperative wou...|       Not Available| Not Available|Not Available| Not Available|  Not Available|      13|07/01/2021|06/30/2023|\n",
            "|     251319|HOLMES COUNTY HOS...|239 BOWLING GREEN...|  LEXINGTON|   MS|   39095|       HOLMES|  (662) 834-1321|       PSI_15|Abdominopelvic ac...|       Not Available| Not Available|Not Available| Not Available|  Not Available|      13|07/01/2021|06/30/2023|\n",
            "|     251319|HOLMES COUNTY HOS...|239 BOWLING GREEN...|  LEXINGTON|   MS|   39095|       HOLMES|  (662) 834-1321|       PSI_90|CMS Medicare PSI ...|       Not Available|Not Applicable|Not Available| Not Available|  Not Available|      13|07/01/2021|06/30/2023|\n",
            "|     251320|CLAIBORNE COUNTY ...|   123 MCCOMB AVENUE|PORT GIBSON|   MS|   39150|    CLAIBORNE|  (601) 437-5141|COMP_HIP_KNEE|Rate of complicat...|       Not Available| Not Available|Not Available| Not Available|  Not Available|       5|07/01/2020|03/31/2023|\n",
            "|     251320|CLAIBORNE COUNTY ...|   123 MCCOMB AVENUE|PORT GIBSON|   MS|   39150|    CLAIBORNE|  (601) 437-5141|  MORT_30_AMI|Death rate for he...|       Not Available| Not Available|Not Available| Not Available|  Not Available|       5|07/01/2020|06/30/2023|\n",
            "|     251320|CLAIBORNE COUNTY ...|   123 MCCOMB AVENUE|PORT GIBSON|   MS|   39150|    CLAIBORNE|  (601) 437-5141| MORT_30_CABG|Death rate for CA...|       Not Available| Not Available|Not Available| Not Available|  Not Available|       5|07/01/2020|06/30/2023|\n",
            "|     251320|CLAIBORNE COUNTY ...|   123 MCCOMB AVENUE|PORT GIBSON|   MS|   39150|    CLAIBORNE|  (601) 437-5141| MORT_30_COPD|Death rate for CO...|No Different Than...|            27|          8.5|           5.0|           13.9|     NaN|07/01/2020|06/30/2023|\n",
            "|     251320|CLAIBORNE COUNTY ...|   123 MCCOMB AVENUE|PORT GIBSON|   MS|   39150|    CLAIBORNE|  (601) 437-5141|   MORT_30_HF|Death rate for he...|No Different Than...|            29|         10.2|           6.1|           16.4|     NaN|07/01/2020|06/30/2023|\n",
            "|     251320|CLAIBORNE COUNTY ...|   123 MCCOMB AVENUE|PORT GIBSON|   MS|   39150|    CLAIBORNE|  (601) 437-5141|   MORT_30_PN|Death rate for pn...|No Different Than...|            37|         17.2|          11.2|           25.4|     NaN|07/01/2020|06/30/2023|\n",
            "|     251320|CLAIBORNE COUNTY ...|   123 MCCOMB AVENUE|PORT GIBSON|   MS|   39150|    CLAIBORNE|  (601) 437-5141|  MORT_30_STK|Death rate for st...|Number of Cases T...| Not Available|Not Available| Not Available|  Not Available|       1|07/01/2020|06/30/2023|\n",
            "|     251320|CLAIBORNE COUNTY ...|   123 MCCOMB AVENUE|PORT GIBSON|   MS|   39150|    CLAIBORNE|  (601) 437-5141|       PSI_03| Pressure ulcer rate|       Not Available| Not Available|Not Available| Not Available|  Not Available|      13|07/01/2021|06/30/2023|\n",
            "+-----------+--------------------+--------------------+-----------+-----+--------+-------------+----------------+-------------+--------------------+--------------------+--------------+-------------+--------------+---------------+--------+----------+----------+\n",
            "only showing top 20 rows\n",
            "\n"
          ]
        }
      ]
    }
  ]
}